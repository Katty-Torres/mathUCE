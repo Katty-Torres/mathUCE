{
  "nbformat": 4,
  "nbformat_minor": 0,
  "metadata": {
    "colab": {
      "provenance": [],
      "toc_visible": true,
      "authorship_tag": "ABX9TyN2Frk2v3GUw8yTfvGzdMiD",
      "include_colab_link": true
    },
    "kernelspec": {
      "name": "python3",
      "display_name": "Python 3"
    },
    "language_info": {
      "name": "python"
    }
  },
  "cells": [
    {
      "cell_type": "markdown",
      "metadata": {
        "id": "view-in-github",
        "colab_type": "text"
      },
      "source": [
        "<a href=\"https://colab.research.google.com/github/Katty-Torres/mathUCE/blob/main/5_Funciones_en_Python%2C_noci%C3%B3n_de_distancia%2C_espacios_m%C3%A9tricos.ipynb\" target=\"_parent\"><img src=\"https://colab.research.google.com/assets/colab-badge.svg\" alt=\"Open In Colab\"/></a>"
      ]
    },
    {
      "cell_type": "markdown",
      "source": [
        "#Función biyectiva y compuesta\n",
        "\n",
        "**Función de Utilidad:**\n",
        "\n",
        "En matemáticas, una función de utilidad generalmente se refiere a una función que asigna valores numéricos a diferentes estados o combinaciones de variables.\n",
        "Puede representar preferencias, beneficios, costos, entre otros aspectos cuantificables en un modelo matemático.\n",
        "\n",
        "*Función Biyectiva*\n",
        "\n",
        "Una función 𝑓:𝐴→𝐵 es biyectiva si es a la vez inyectiva (uno a uno) y sobreyectiva (sobre).\n",
        "\n",
        "- Inyectiva: 𝑓 es inyectiva si 𝑓(𝑎1)=𝑓(𝑎2) implica que 𝑎1=𝑎2a. En otras palabras, no hay dos elementos distintos en 𝐴 que se mapeen al mismo elemento en 𝐵.\n",
        "- Sobreyectiva: 𝑓es sobreyectiva si para cada 𝑏 en 𝐵, existe al menos un 𝑎 en 𝐴 tal que 𝑓(𝑎)=𝑏. Es decir, la imagen de 𝑓es todo el conjunto 𝐵.\n",
        "\n",
        "Si 𝑓 cumple con ambas propiedades, entonces 𝑓 es biyectiva, y se puede decir que hay una correspondencia uno a uno entre los elementos de 𝐴 y los elementos de 𝐵.\n",
        "\n",
        "*Función Compuesta*\n",
        "\n",
        "La composición de funciones es la aplicación de una función a los resultados de otra función. Formalmente, si 𝑔:𝐴→𝐵 y 𝑓:𝐵→𝐶, la función compuesta 𝑓∘𝑔 se define como:\n",
        "    (f∘g)(x)=f(g(x))\n"
      ],
      "metadata": {
        "id": "5tFbrEUEOHvT"
      }
    },
    {
      "cell_type": "markdown",
      "source": [
        "**Función Biyectiva**\n",
        "\n",
        "Primero, vamos a definir una función en Python que sea biyectiva."
      ],
      "metadata": {
        "id": "h7JUiizwXz2q"
      }
    },
    {
      "cell_type": "code",
      "source": [
        "def f(x):\n",
        "    return 2 * x + 3\n",
        "\n",
        "# Verificación de inyectividad y sobreyectividad\n",
        "def is_injective(f, domain):\n",
        "    values = set()\n",
        "    for x in domain:\n",
        "        y = f(x)\n",
        "        if y in values:\n",
        "            return False\n",
        "        values.add(y)\n",
        "    return True\n",
        "\n",
        "def is_surjective(f, domain, codomain):\n",
        "    for y in codomain:\n",
        "        found = False\n",
        "        for x in domain:\n",
        "            if f(x) == y:\n",
        "                found = True\n",
        "                break\n",
        "        if not found:\n",
        "            return False\n",
        "    return True\n",
        "\n",
        "# Dominio y codominio para la verificación\n",
        "domain = range(-100, 100)  # Aproximación para verificar inyectividad\n",
        "codomain = range(-197, 203)  # Aproximación para verificar sobreyectividad (2x+3 con x en [-100, 100])\n",
        "\n",
        "injective = is_injective(f, domain)\n",
        "surjective = is_surjective(f, domain, codomain)\n",
        "\n",
        "print(f\"¿Es la función inyectiva? {'Sí' if injective else 'No'}\")\n",
        "print(f\"¿Es la función sobreyectiva? {'Sí' if surjective else 'No'}\")\n",
        "print(f\"¿Es la función biyectiva? {'Sí' if injective and surjective else 'No'}\")"
      ],
      "metadata": {
        "id": "LVFKibCAX3Kv"
      },
      "execution_count": null,
      "outputs": []
    },
    {
      "cell_type": "markdown",
      "source": [
        "*Función Compuesta*\n",
        "\n",
        "Ahora, definamos dos funciones y compongámoslas."
      ],
      "metadata": {
        "id": "OsrArEmGX6Gt"
      }
    },
    {
      "cell_type": "code",
      "source": [
        "def g(x):\n",
        "    return x ** 2\n",
        "\n",
        "def f(x):\n",
        "    return x + 1\n",
        "\n",
        "def compose(f, g):\n",
        "    return lambda x: f(g(x))\n",
        "\n",
        "f_comp_g = compose(f, g)\n",
        "g_comp_f = compose(g, f)\n",
        "\n",
        "# Probando las funciones compuestas\n",
        "x = 3\n",
        "print(f\"(f ∘ g)({x}) = {f_comp_g(x)}\")  # f(g(3)) = f(9) = 10\n",
        "print(f\"(g ∘ f)({x}) = {g_comp_f(x)}\")  # g(f(3)) = g(4) = 16"
      ],
      "metadata": {
        "id": "OlV8zt3aYAn5"
      },
      "execution_count": null,
      "outputs": []
    },
    {
      "cell_type": "markdown",
      "source": [
        "#Tipos de Funciones:\n",
        "\n",
        "**Función Lineal:**\n",
        "f(x)=ax+b, donde 𝑎 y 𝑏 son constantes y describe una relación lineal entre la variable 𝑥 y la función 𝑓(𝑥)."
      ],
      "metadata": {
        "id": "utknLVcOYG7L"
      }
    },
    {
      "cell_type": "code",
      "source": [
        "class FuncionLineal:\n",
        "    def __init__(self, a, b):\n",
        "        self.a = a\n",
        "        self.b = b\n",
        "\n",
        "    def evaluar(self, x):\n",
        "        return self.a * x + self.b\n",
        "\n",
        "    def inversa(self):\n",
        "        if self.a == 0:\n",
        "            raise ValueError(\"La función no es invertible (a = 0).\")\n",
        "        return FuncionLineal(1 / self.a, -self.b / self.a)\n",
        "\n",
        "    def es_biyectiva(self):\n",
        "        # Una función lineal es biyectiva si y solo si a != 0\n",
        "        return self.a != 0\n",
        "\n",
        "# Ejemplo de uso\n",
        "f = FuncionLineal(2, 3)\n",
        "\n",
        "# Evaluar la función\n",
        "x = 5\n",
        "print(f\"f({x}) = {f.evaluar(x)}\")\n",
        "\n",
        "# Verificar si es biyectiva\n",
        "print(f\"¿Es la función biyectiva? {'Sí' si f.es_biyectiva() sino 'No'}\")\n",
        "\n",
        "# Calcular la función inversa (si es biyectiva)\n",
        "if f.es_biyectiva():\n",
        "    f_inv = f.inversa()\n",
        "    print(f\"La función inversa de f(x) es f_inv(x) = {f_inv.a}x + {f_inv.b}\")\n",
        "\n",
        "    # Verificar la inversa\n",
        "    x = 5\n",
        "    y = f.evaluar(x)\n",
        "    x_inv = f_inv.evaluar(y)\n",
        "    print(f\"f({x}) = {y} y f_inv({y}) = {x_inv}\")\n",
        "else:\n",
        "    print(\"La función no tiene inversa porque no es biyectiva.\")"
      ],
      "metadata": {
        "id": "_NISTlp2YhD1"
      },
      "execution_count": null,
      "outputs": []
    },
    {
      "cell_type": "markdown",
      "source": [
        "*Función Cuadrática: *\n",
        "\n",
        "f(x)=ax2+bx+c, donde 𝑎,𝑏, y 𝑐 son constantes y la gráfica de la función es una parábola."
      ],
      "metadata": {
        "id": "uCQhCUCxYjKy"
      }
    },
    {
      "cell_type": "code",
      "source": [
        "import math\n",
        "\n",
        "class FuncionCuadratica:\n",
        "    def __init__(self, a, b, c):\n",
        "        self.a = a\n",
        "        self.b = b\n",
        "        self.c = c\n",
        "\n",
        "    def evaluar(self, x):\n",
        "        return self.a * x**2 + self.b * x + self.c\n",
        "\n",
        "    def discriminante(self):\n",
        "        return self.b**2 - 4 * self.a * self.c\n",
        "\n",
        "    def raices(self):\n",
        "        d = self.discriminante()\n",
        "        if d < 0:\n",
        "            return None  # No tiene raíces reales\n",
        "        elif d == 0:\n",
        "            return (-self.b / (2 * self.a),)  # Una raíz doble\n",
        "        else:\n",
        "            raiz_d = math.sqrt(d)\n",
        "            x1 = (-self.b + raiz_d) / (2 * self.a)\n",
        "            x2 = (-self.b - raiz_d) / (2 * self.a)\n",
        "            return (x1, x2)  # Dos raíces distintas\n",
        "\n",
        "    def vertice(self):\n",
        "        x_vertice = -self.b / (2 * self.a)\n",
        "        y_vertice = self.evaluar(x_vertice)\n",
        "        return (x_vertice, y_vertice)\n",
        "\n",
        "# Ejemplo de uso\n",
        "f = FuncionCuadratica(1, -3, 2)\n",
        "\n",
        "# Evaluar la función en un punto\n",
        "x = 1\n",
        "print(f\"f({x}) = {f.evaluar(x)}\")\n",
        "\n",
        "# Encontrar las raíces\n",
        "raices = f.raices()\n",
        "if raices is None:\n",
        "    print(\"La función no tiene raíces reales.\")\n",
        "else:\n",
        "    print(f\"Las raíces de la función son: {raices}\")\n",
        "\n",
        "# Encontrar el vértice\n",
        "vertice = f.vertice()\n",
        "print(f\"El vértice de la función es: {vertice}\")"
      ],
      "metadata": {
        "id": "BKnDxr3kY0yi"
      },
      "execution_count": null,
      "outputs": []
    },
    {
      "cell_type": "markdown",
      "source": [
        "*Función Exponencial:*\n",
        "\n",
        "f(x)=a⋅bx, donde 𝑎 y 𝑏 son constantes y 𝑏 es la base exponencial."
      ],
      "metadata": {
        "id": "vGofXcJZY_IX"
      }
    },
    {
      "cell_type": "code",
      "source": [
        "import math\n",
        "\n",
        "class FuncionExponencial:\n",
        "    def __init__(self, a, b):\n",
        "        self.a = a\n",
        "        self.b = b\n",
        "\n",
        "    def evaluar(self, x):\n",
        "        return self.a * math.exp(self.b * x)\n",
        "\n",
        "    def derivada(self, x):\n",
        "        return self.a * self.b * math.exp(self.b * x)\n",
        "\n",
        "# Ejemplo de uso\n",
        "f = FuncionExponencial(2, 3)\n",
        "\n",
        "# Evaluar la función en un punto\n",
        "x = 1\n",
        "print(f\"f({x}) = {f.evaluar(x)}\")\n",
        "\n",
        "# Evaluar la derivada en un punto\n",
        "print(f\"f'({x}) = {f.derivada(x)}\")"
      ],
      "metadata": {
        "id": "1kX_kZaEZMrX"
      },
      "execution_count": null,
      "outputs": []
    },
    {
      "cell_type": "markdown",
      "source": [
        "*Función Logarítmica: *\n",
        "\n",
        "f(x)=logb (x), donde log𝑏 es el logaritmo de base 𝑏."
      ],
      "metadata": {
        "id": "wvgzxiH-ZU6S"
      }
    },
    {
      "cell_type": "code",
      "source": [
        "import math\n",
        "\n",
        "class FuncionLogaritmica:\n",
        "    def __init__(self, a, base):\n",
        "        self.a = a\n",
        "        self.base = base\n",
        "\n",
        "    def evaluar(self, x):\n",
        "        if x <= 0:\n",
        "            raise ValueError(\"El argumento de un logaritmo debe ser positivo.\")\n",
        "        return self.a * math.log(x) / math.log(self.base)\n",
        "\n",
        "    def derivada(self, x):\n",
        "        if x <= 0:\n",
        "            raise ValueError(\"El argumento de un logaritmo debe ser positivo.\")\n",
        "        return self.a / (x * math.log(self.base))\n",
        "\n",
        "# Ejemplo de uso\n",
        "f = FuncionLogaritmica(2, 10)\n",
        "\n",
        "# Evaluar la función en un punto\n",
        "x = 5\n",
        "print(f\"f({x}) = {f.evaluar(x)}\")\n",
        "\n",
        "# Evaluar la derivada en un punto\n",
        "print(f\"f'({x}) = {f.derivada(x)}\")"
      ],
      "metadata": {
        "id": "6IHgcJhKZpxO"
      },
      "execution_count": null,
      "outputs": []
    }
  ]
}