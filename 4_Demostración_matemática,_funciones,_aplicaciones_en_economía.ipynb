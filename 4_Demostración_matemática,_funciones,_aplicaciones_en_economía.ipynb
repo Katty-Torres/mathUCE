{
  "nbformat": 4,
  "nbformat_minor": 0,
  "metadata": {
    "colab": {
      "provenance": [],
      "authorship_tag": "ABX9TyN009nOwvIW3xbrZ4Cmt5+u",
      "include_colab_link": true
    },
    "kernelspec": {
      "name": "python3",
      "display_name": "Python 3"
    },
    "language_info": {
      "name": "python"
    }
  },
  "cells": [
    {
      "cell_type": "markdown",
      "metadata": {
        "id": "view-in-github",
        "colab_type": "text"
      },
      "source": [
        "<a href=\"https://colab.research.google.com/github/Katty-Torres/mathUCE/blob/main/4_Demostraci%C3%B3n_matem%C3%A1tica%2C_funciones%2C_aplicaciones_en_econom%C3%ADa.ipynb\" target=\"_parent\"><img src=\"https://colab.research.google.com/assets/colab-badge.svg\" alt=\"Open In Colab\"/></a>"
      ]
    },
    {
      "cell_type": "markdown",
      "source": [
        "#Funciones Matemáticas: Imagen y Preimagen\n",
        "En matemáticas, especialmente en el contexto de funciones, los conceptos de imagen y preimagen son fundamentales para entender cómo las funciones relacionan conjuntos entre sí.\n",
        "\n",
        "**Imagen de una Función**\n",
        "\n",
        "La imagen de una función 𝑓, denotada como\n",
        "𝑓(𝐴), es el conjunto de todos los valores posibles que la función puede tomar cuando sus argumentos pertenecen al conjunto 𝐴. Formalmente, si 𝑓:𝑋→𝑌 es una función y 𝐴⊆𝑋, entonces la imagen de 𝐴 bajo 𝑓 es:\n",
        "\n",
        "    f(A)={f(x)∣x∈A}\n",
        "\n",
        "**Preimagen de una Función**\n",
        "\n",
        "La preimagen de una función 𝑓, denotada como 𝑓−1(𝐵), es el conjunto de todos los elementos en el dominio de 𝑓 que son mapeados por f al conjunto B. Formalmente, si 𝑓:𝑋→𝑌 es una función y 𝐵 ⊆𝑌, entonces la preimagen de 𝐵 bajo 𝑓 es:\n",
        "\n",
        "    f−1 (B)={x∈X∣f(x)∈B}\n",
        "\n",
        "  **Relación con Principios de Demostración**\n",
        "\n",
        "*Inclusión de Conjuntos:* Para demostrar que dos conjuntos son iguales, a menudo se demuestra la doble inclusión. Por ejemplo, para demostrar\n",
        "𝑓(𝐴)=𝐵, se debe demostrar que 𝑓(𝐴)⊆𝐵 y 𝐵⊆𝑓(𝐴).\n",
        "\n",
        "- *Existencia y Unicidad:* La preimagen a menudo se utiliza para demostrar la existencia o unicidad de elementos en el dominio que satisfacen ciertas propiedades bajo la función 𝑓.\n",
        "\n",
        "- *Contradicción:* En demostraciones por contradicción, a veces se consideran elementos que no pertenecen a la preimagen de ciertos conjuntos para llegar a una contradicción lógica.\n"
      ],
      "metadata": {
        "id": "qcHy10LT77if"
      }
    },
    {
      "cell_type": "markdown",
      "source": [
        "**Imagen de una Función en Python**"
      ],
      "metadata": {
        "id": "M7fmhbLt--RE"
      }
    },
    {
      "cell_type": "code",
      "source": [
        "# Definición de la función\n",
        "def f(x):\n",
        "    return x ** 2\n",
        "\n",
        "# Conjunto de entrada\n",
        "A = {1, 2, 3, 4, 5}\n",
        "\n",
        "# Calcular la imagen de A bajo f\n",
        "imagen_A = {f(x) for x in A}\n",
        "\n",
        "print(\"Imagen de A bajo f:\", imagen_A)"
      ],
      "metadata": {
        "id": "v5hjJl5s-2gA"
      },
      "execution_count": null,
      "outputs": []
    },
    {
      "cell_type": "code",
      "source": [
        "import matplotlib.pyplot as plt\n",
        "import numpy as np\n",
        "\n",
        "# Definir la función cuadrática\n",
        "def f(x):\n",
        "    return x ** 2\n",
        "\n",
        "# Generar datos para la gráfica de la función\n",
        "x = np.linspace(-5, 5, 100)  # 100 puntos entre -5 y 5\n",
        "y = f(x)\n",
        "\n",
        "# Crear el gráfico de la función\n",
        "plt.figure(figsize=(8, 6))\n",
        "plt.plot(x, y, label='f(x) = x^2', color='blue')\n",
        "plt.title('Gráfica de la función f(x) = x^2')\n",
        "plt.xlabel('x')\n",
        "plt.ylabel('f(x)')\n",
        "plt.grid(True)\n",
        "plt.legend()\n",
        "plt.show()"
      ],
      "metadata": {
        "id": "DPhvSE29_9oV"
      },
      "execution_count": null,
      "outputs": []
    },
    {
      "cell_type": "markdown",
      "source": [
        "**Preimagen de una Función en Python**"
      ],
      "metadata": {
        "id": "qMkY_q1y_EFj"
      }
    },
    {
      "cell_type": "code",
      "source": [
        "# Conjunto objetivo B\n",
        "B = {4, 9, 16}\n",
        "\n",
        "# Calcular la preimagen de B bajo f\n",
        "preimagen_B = {x for x in A if f(x) in B}\n",
        "\n",
        "print(\"Preimagen de B bajo f:\", preimagen_B)"
      ],
      "metadata": {
        "id": "mlat42yT_Iaw"
      },
      "execution_count": null,
      "outputs": []
    },
    {
      "cell_type": "code",
      "source": [
        "# Definir la función inversa\n",
        "def f_inv(y):\n",
        "    return np.sqrt(y)  # Raíz cuadrada positiva como función inversa\n",
        "\n",
        "# Generar datos para la gráfica de la preimagen\n",
        "y_values = np.linspace(0, 16, 100)  # 100 puntos entre 0 y 16 para y\n",
        "x_values = f_inv(y_values)  # Calcular la preimagen de y_values bajo f_inv\n",
        "\n",
        "# Crear el gráfico de la preimagen\n",
        "plt.figure(figsize=(8, 6))\n",
        "plt.plot(x_values, y_values, label='Preimagen de [4, 16]', color='green')\n",
        "plt.title('Gráfica de la preimagen de [4, 16] bajo f(x) = x^2')\n",
        "plt.xlabel('x')\n",
        "plt.ylabel('y')\n",
        "plt.grid(True)\n",
        "plt.legend()\n",
        "plt.show()"
      ],
      "metadata": {
        "id": "c_dDA-ptADRT"
      },
      "execution_count": null,
      "outputs": []
    },
    {
      "cell_type": "markdown",
      "source": [
        "**Combinación de Gráficas para Visualizar Relaciones**"
      ],
      "metadata": {
        "id": "ilt23uOPAEsS"
      }
    },
    {
      "cell_type": "code",
      "source": [
        "# Crear el gráfico combinado\n",
        "plt.figure(figsize=(10, 6))\n",
        "\n",
        "# Gráfico de la función f(x) = x^2\n",
        "plt.subplot(1, 2, 1)\n",
        "plt.plot(x, y, label='f(x) = x^2', color='blue')\n",
        "plt.title('Gráfica de la función f(x) = x^2')\n",
        "plt.xlabel('x')\n",
        "plt.ylabel('f(x)')\n",
        "plt.grid(True)\n",
        "plt.legend()\n",
        "\n",
        "# Gráfico de la preimagen de [4, 16]\n",
        "plt.subplot(1, 2, 2)\n",
        "plt.plot(x_values, y_values, label='Preimagen de [4, 16]', color='green')\n",
        "plt.title('Gráfica de la preimagen de [4, 16] bajo f(x) = x^2')\n",
        "plt.xlabel('x')\n",
        "plt.ylabel('y')\n",
        "plt.grid(True)\n",
        "plt.legend()\n",
        "\n",
        "plt.tight_layout()\n",
        "plt.show()"
      ],
      "metadata": {
        "id": "pEvJvQCGAIye"
      },
      "execution_count": null,
      "outputs": []
    },
    {
      "cell_type": "markdown",
      "source": [
        "#Aplicaciones en economía\n",
        "\n",
        "Las aplicaciones de las funciones matemáticas en economía son vastas y fundamentales para modelar y entender fenómenos económicos complejos.\n",
        "\n",
        "**1. Modelos de Oferta y Demanda**\n",
        "\n",
        "En economía, los modelos de oferta y demanda son fundamentales para entender cómo interactúan los agentes económicos en un mercado. Se utilizan funciones para representar las curvas de oferta y demanda, que muestran cómo la cantidad ofrecida o demandada de un bien varía en función del precio y otros factores.\n",
        "\n",
        "**2. Teoría de la Producción**\n",
        "\n",
        "La teoría de la producción estudia cómo las empresas combinan insumos para producir bienes y servicios. Se emplean funciones de producción para modelar la relación entre la cantidad de insumos utilizados y la cantidad de producción obtenida.\n",
        "\n",
        "**3. Economía Matemática**\n",
        "\n",
        "La economía matemática utiliza herramientas matemáticas avanzadas, como funciones de utilidad, funciones de coste, ecuaciones diferenciales y optimización matemática, para analizar y resolver problemas económicos complejos. Por ejemplo, se utilizan funciones de utilidad para modelar las preferencias de los consumidores y tomar decisiones de consumo óptimas.\n",
        "\n",
        "**4. Modelos Macroeconómicos**\n",
        "\n",
        "En macroeconomía, se utilizan funciones para modelar variables clave como el consumo, la inversión, el ahorro, la producción agregada y el empleo. Estos modelos ayudan a los economistas y responsables políticos a entender y predecir el comportamiento de la economía en su conjunto.\n",
        "\n",
        "**5. Econometría**\n",
        "\n",
        "La econometría combina técnicas estadísticas y modelos matemáticos para analizar datos económicos y estimar relaciones entre variables. Se utilizan funciones para especificar modelos econométricos y para realizar predicciones y pruebas empíricas.\n"
      ],
      "metadata": {
        "id": "fsLk088aE8hQ"
      }
    },
    {
      "cell_type": "markdown",
      "source": [
        "1. Optimización en Economía\n",
        "\n",
        "La optimización matemática es fundamental para maximizar la utilidad del consumidor, minimizar costos de producción, o maximizar beneficios empresariales. Un ejemplo típico es la maximización de la utilidad del consumidor bajo restricciones de presupuesto utilizando funciones de utilidad:"
      ],
      "metadata": {
        "id": "6s9YAvrdGTnK"
      }
    },
    {
      "cell_type": "code",
      "source": [
        "import numpy as np\n",
        "import matplotlib.pyplot as plt\n",
        "from scipy.optimize import minimize\n",
        "\n",
        "# Función de utilidad cuadrática\n",
        "def utility(x):\n",
        "    return -(x[0]**2 + x[1]**2)\n",
        "\n",
        "# Restricción de presupuesto\n",
        "def budget_constraint(x):\n",
        "    return 100 - 3*x[0] - 2*x[1]\n",
        "\n",
        "# Resolver el problema de maximización de utilidad sujeto a la restricción de presupuesto\n",
        "initial_guess = [10, 10]\n",
        "constraints = ({'type': 'ineq', 'fun': budget_constraint})\n",
        "result = minimize(utility, initial_guess, constraints=constraints)\n",
        "\n",
        "# Mostrar resultados\n",
        "print(\"Cantidad óptima de bien 1:\", result.x[0])\n",
        "print(\"Cantidad óptima de bien 2:\", result.x[1])\n",
        "print(\"Utilidad máxima:\", -result.fun)"
      ],
      "metadata": {
        "id": "Ii9oDebgGV6T"
      },
      "execution_count": null,
      "outputs": []
    },
    {
      "cell_type": "markdown",
      "source": [
        "2. Modelos de Regresión en Econometría\n",
        "\n",
        "En econometría, se utilizan modelos matemáticos como regresiones lineales y no lineales para estimar relaciones entre variables económicas y para realizar predicciones. Estos modelos ayudan a entender cómo factores como el ingreso afectan el consumo, por ejemplo."
      ],
      "metadata": {
        "id": "V8dSKmwXGbde"
      }
    },
    {
      "cell_type": "code",
      "source": [
        "import pandas as pd\n",
        "import statsmodels.api as sm\n",
        "\n",
        "# Crear datos simulados\n",
        "np.random.seed(0)\n",
        "n = 100\n",
        "income = np.random.normal(50000, 10000, n)\n",
        "consumption = 0.6 * income + np.random.normal(0, 5000, n)\n",
        "\n",
        "data = pd.DataFrame({'Income': income, 'Consumption': consumption})\n",
        "\n",
        "# Ajustar modelo de regresión lineal\n",
        "X = sm.add_constant(data['Income'])\n",
        "model = sm.OLS(data['Consumption'], X)\n",
        "results = model.fit()\n",
        "\n",
        "# Mostrar resultados\n",
        "print(results.summary())"
      ],
      "metadata": {
        "id": "pA3jCoDZGc5r"
      },
      "execution_count": null,
      "outputs": []
    },
    {
      "cell_type": "markdown",
      "source": [
        "1. Modelos de Oferta y Demanda\n",
        "\n",
        "Gráfico de Curvas de Oferta y Demanda"
      ],
      "metadata": {
        "id": "ZTwnoR5KGfIr"
      }
    },
    {
      "cell_type": "code",
      "source": [
        "import matplotlib.pyplot as plt\n",
        "import numpy as np\n",
        "\n",
        "# Funciones de oferta y demanda\n",
        "def demand(p):\n",
        "    return 100 - 2*p\n",
        "\n",
        "def supply(p):\n",
        "    return 50 + p\n",
        "\n",
        "# Rango de precios\n",
        "prices = np.linspace(0, 50, 100)\n",
        "\n",
        "# Calcular cantidades correspondientes\n",
        "quantity_demand = demand(prices)\n",
        "quantity_supply = supply(prices)\n",
        "\n",
        "# Graficar las curvas de oferta y demanda\n",
        "plt.figure(figsize=(8, 6))\n",
        "plt.plot(prices, quantity_demand, label='Demanda', color='blue')\n",
        "plt.plot(prices, quantity_supply, label='Oferta', color='red')\n",
        "plt.title('Curvas de Oferta y Demanda')\n",
        "plt.xlabel('Precio')\n",
        "plt.ylabel('Cantidad')\n",
        "plt.legend()\n",
        "plt.grid(True)\n",
        "plt.show()"
      ],
      "metadata": {
        "id": "H-myZjsmGv_C"
      },
      "execution_count": null,
      "outputs": []
    },
    {
      "cell_type": "markdown",
      "source": [
        "2. Modelos de Crecimiento Económico\n",
        "\n",
        "Gráfico de la Función de Producción Cobb-Douglas"
      ],
      "metadata": {
        "id": "DceBQGwdG1kD"
      }
    },
    {
      "cell_type": "code",
      "source": [
        "# Función de producción Cobb-Douglas\n",
        "def cobb_douglas(K, L, alpha=0.3, beta=0.7):\n",
        "    return K**alpha * L**beta\n",
        "\n",
        "# Generar datos para la gráfica\n",
        "K = np.linspace(1, 10, 100)\n",
        "L = np.linspace(1, 10, 100)\n",
        "K, L = np.meshgrid(K, L)\n",
        "Y = cobb_douglas(K, L)\n",
        "\n",
        "# Graficar la superficie de producción\n",
        "from mpl_toolkits.mplot3d import Axes3D\n",
        "\n",
        "fig = plt.figure(figsize=(10, 8))\n",
        "ax = fig.add_subplot(111, projection='3d')\n",
        "ax.plot_surface(K, L, Y, cmap='viridis')\n",
        "ax.set_title('Función de Producción Cobb-Douglas')\n",
        "ax.set_xlabel('Capital (K)')\n",
        "ax.set_ylabel('Trabajo (L)')\n",
        "ax.set_zlabel('Producción (Y)')\n",
        "plt.show()"
      ],
      "metadata": {
        "id": "Diz9YD6ZG2yf"
      },
      "execution_count": null,
      "outputs": []
    },
    {
      "cell_type": "markdown",
      "source": [
        "3. Modelos de Econometría\n",
        "\n",
        "Modelo de Regresión Lineal"
      ],
      "metadata": {
        "id": "TWzt5-DPG5jG"
      }
    },
    {
      "cell_type": "code",
      "source": [
        "import pandas as pd\n",
        "import statsmodels.api as sm\n",
        "\n",
        "# Crear datos simulados\n",
        "np.random.seed(0)\n",
        "n = 100\n",
        "income = np.random.normal(50000, 10000, n)\n",
        "consumption = 0.6 * income + np.random.normal(0, 5000, n)\n",
        "\n",
        "data = pd.DataFrame({'Income': income, 'Consumption': consumption})\n",
        "\n",
        "# Ajustar modelo de regresión lineal\n",
        "X = sm.add_constant(data['Income'])\n",
        "model = sm.OLS(data['Consumption'], X)\n",
        "results = model.fit()\n",
        "\n",
        "# Mostrar coeficientes y estadísticas del modelo\n",
        "print(results.summary())"
      ],
      "metadata": {
        "id": "tQfF6d2QG8vl"
      },
      "execution_count": null,
      "outputs": []
    }
  ]
}