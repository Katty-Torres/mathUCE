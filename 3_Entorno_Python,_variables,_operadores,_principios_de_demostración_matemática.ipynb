{
  "nbformat": 4,
  "nbformat_minor": 0,
  "metadata": {
    "colab": {
      "provenance": [],
      "authorship_tag": "ABX9TyMogvK1TeMglzVUXTzboEK8",
      "include_colab_link": true
    },
    "kernelspec": {
      "name": "python3",
      "display_name": "Python 3"
    },
    "language_info": {
      "name": "python"
    }
  },
  "cells": [
    {
      "cell_type": "markdown",
      "metadata": {
        "id": "view-in-github",
        "colab_type": "text"
      },
      "source": [
        "<a href=\"https://colab.research.google.com/github/Katty-Torres/mathUCE/blob/main/3_Entorno_Python%2C_variables%2C_operadores%2C_principios_de_demostraci%C3%B3n_matem%C3%A1tica.ipynb\" target=\"_parent\"><img src=\"https://colab.research.google.com/assets/colab-badge.svg\" alt=\"Open In Colab\"/></a>"
      ]
    },
    {
      "cell_type": "markdown",
      "source": [
        "#Programación\n",
        "\n",
        "**¿Qué es la programación?**\n",
        "\n",
        "La programación es el proceso de diseñar y construir un conjunto de instrucciones que una computadora puede seguir para realizar una tarea específica. Estas instrucciones se escriben en un lenguaje de programación, que puede ser entendido y ejecutado por la computadora.\n",
        "\n",
        "**Conceptos básicos**\n",
        "\n",
        "*Algoritmo*\n",
        "\n",
        "Un algoritmo es una secuencia de pasos bien definidos que resuelven un problema específico. Los algoritmos son la base de cualquier programa de computadora.\n",
        "\n",
        "*Lenguajes de Programación*\n",
        "\n",
        "Los lenguajes de programación son notaciones formales diseñadas para comunicar instrucciones a una máquina. Algunos lenguajes de programación populares incluyen Python, Java, C++, y JavaScript.\n",
        "\n",
        "*Sintaxis*\n",
        "\n",
        "La sintaxis es el conjunto de reglas que definen la estructura de un lenguaje de programación. Cada lenguaje tiene su propia sintaxis que debe ser seguida estrictamente.\n",
        "\n",
        "*Variables*\n",
        "\n",
        "Las variables son espacios en memoria que se utilizan para almacenar datos que pueden cambiar durante la ejecución de un programa. Se definen con un nombre y pueden contener diferentes tipos de datos, como números, cadenas de texto, etc.\n",
        "\n",
        "*Estructuras de Control*\n",
        "\n",
        "Las estructuras de control determinan el flujo de ejecución de las instrucciones en un programa. Las más comunes incluyen:\n",
        "\n",
        "- **Condicionales (if, else):** Permiten ejecutar ciertas partes del código solo si se cumplen determinadas condiciones.\n",
        "- **Bucles (for, while):** Permiten repetir un bloque de código varias veces.\n",
        "\n",
        "-- Ejemplos prácticos en Python\n"
      ],
      "metadata": {
        "id": "Z1C8SuRJoP3c"
      }
    },
    {
      "cell_type": "markdown",
      "source": [
        "Hola Mundo\n",
        "\n",
        "El programa más simple en cualquier lenguaje de programación es el famoso \"Hola Mundo\". En Python, se ve así:"
      ],
      "metadata": {
        "id": "p6Ika6_-sko3"
      }
    },
    {
      "cell_type": "code",
      "source": [
        "print(\"Hola Mundo\")\n"
      ],
      "metadata": {
        "id": "dx5YgFD1saJo"
      },
      "execution_count": null,
      "outputs": []
    },
    {
      "cell_type": "markdown",
      "source": [
        "**Variables y Tipos de Datos**\n",
        "\n",
        "Definiendo y utilizando variables en Python:"
      ],
      "metadata": {
        "id": "0TTiDSBHspDm"
      }
    },
    {
      "cell_type": "code",
      "source": [
        "# Definición de variables\n",
        "nombre = \"Mirian\"\n",
        "edad = 25\n",
        "altura = 1.65\n",
        "\n",
        "# Imprimir variables\n",
        "print(\"Nombre:\", nombre)\n",
        "print(\"Edad:\", edad)\n",
        "print(\"Altura:\", altura)\n"
      ],
      "metadata": {
        "id": "hxb-aRCIst8R"
      },
      "execution_count": null,
      "outputs": []
    },
    {
      "cell_type": "markdown",
      "source": [
        "**Condicionales**\n",
        "\n",
        "Uso de condicionales en Python:"
      ],
      "metadata": {
        "id": "QHLyfb-hs8nd"
      }
    },
    {
      "cell_type": "code",
      "source": [
        "# Uso de if, elif, else\n",
        "edad = 18\n",
        "\n",
        "if edad < 18:\n",
        "    print(\"Eres menor de edad.\")\n",
        "elif edad == 18:\n",
        "    print(\"Tienes exactamente 18 años.\")\n",
        "else:\n",
        "    print(\"Eres mayor de edad.\")\n"
      ],
      "metadata": {
        "id": "otP_uWKytBc5"
      },
      "execution_count": null,
      "outputs": []
    },
    {
      "cell_type": "markdown",
      "source": [
        "**Bucles**\n",
        "\n",
        "Uso de bucles en Python:"
      ],
      "metadata": {
        "id": "mZcJp8U9tD9p"
      }
    },
    {
      "cell_type": "code",
      "source": [
        "# Bucle for\n",
        "for i in range(5):\n",
        "    print(\"Iteración\", i)\n",
        "\n",
        "# Bucle while\n",
        "contador = 0\n",
        "while contador < 5:\n",
        "    print(\"Contador:\", contador)\n",
        "    contador += 1\n"
      ],
      "metadata": {
        "id": "cLDymiVWtKFj"
      },
      "execution_count": null,
      "outputs": []
    },
    {
      "cell_type": "markdown",
      "source": [
        "**Funciones**\n",
        "\n",
        "Definiendo y llamando a funciones en Python:"
      ],
      "metadata": {
        "id": "7yFUMgVftOKY"
      }
    },
    {
      "cell_type": "code",
      "source": [
        "# Definición de una función\n",
        "def saludar(nombre):\n",
        "    print(f\"Hola, {nombre}\")\n",
        "\n",
        "# Llamada a la función\n",
        "saludar(\"Ana\")\n"
      ],
      "metadata": {
        "id": "45zxNyM8tSVi"
      },
      "execution_count": null,
      "outputs": []
    },
    {
      "cell_type": "markdown",
      "source": [
        "**Ejemplo Completo: Calculadora Simple**\n",
        "\n",
        "Aquí tienes un ejemplo de una calculadora simple que suma dos números ingresados por el usuario:"
      ],
      "metadata": {
        "id": "Thmk83fwtUIA"
      }
    },
    {
      "cell_type": "code",
      "source": [
        "# Función para sumar dos números\n",
        "def sumar(a, b):\n",
        "    return a + b\n",
        "\n",
        "# Función principal\n",
        "def main():\n",
        "    # Entrada\n",
        "    numero1 = float(input(\"Ingrese el primer número: \"))\n",
        "    numero2 = float(input(\"Ingrese el segundo número: \"))\n",
        "\n",
        "    # Proceso\n",
        "    resultado = sumar(numero1, numero2)\n",
        "\n",
        "    # Salida\n",
        "    print(f\"La suma de {numero1} y {numero2} es {resultado}\")\n",
        "\n",
        "# Llamar a la función principal\n",
        "if __name__ == \"__main__\":\n",
        "    main()\n"
      ],
      "metadata": {
        "id": "3mzFYYkatZug"
      },
      "execution_count": null,
      "outputs": []
    },
    {
      "cell_type": "markdown",
      "source": [
        "#Operadores Aritméticos\n",
        "Estos operadores se utilizan para realizar operaciones matemáticas comunes.\n",
        "\n",
        "**Suma (+):** Suma dos operandos"
      ],
      "metadata": {
        "id": "SLiP04bjugvU"
      }
    },
    {
      "cell_type": "code",
      "source": [
        "resultado = 5 + 3  # resultado es 8"
      ],
      "metadata": {
        "id": "m9k3KK0vuuYJ"
      },
      "execution_count": null,
      "outputs": []
    },
    {
      "cell_type": "markdown",
      "source": [
        "**Resta (-):** Resta el segundo operando del primero"
      ],
      "metadata": {
        "id": "1bgKL0TMuwJ-"
      }
    },
    {
      "cell_type": "code",
      "source": [
        "resultado = 5 - 3  # resultado es 2"
      ],
      "metadata": {
        "id": "Y1g0poAUu0RO"
      },
      "execution_count": null,
      "outputs": []
    },
    {
      "cell_type": "markdown",
      "source": [
        "**Multiplicación (*):** Multiplica dos operandos"
      ],
      "metadata": {
        "id": "-I_AN0wEu_q7"
      }
    },
    {
      "cell_type": "code",
      "source": [
        "resultado = 5 * 3  # resultado es 15"
      ],
      "metadata": {
        "id": "0E2oT4cCvFbe"
      },
      "execution_count": null,
      "outputs": []
    },
    {
      "cell_type": "markdown",
      "source": [
        "**División (/):** Divide el primer operando por el segundo."
      ],
      "metadata": {
        "id": "1a-3Cnm2vHVX"
      }
    },
    {
      "cell_type": "code",
      "source": [
        "resultado = 5 / 3  # resultado es 1.666..."
      ],
      "metadata": {
        "id": "cyCpjljHvNrY"
      },
      "execution_count": null,
      "outputs": []
    },
    {
      "cell_type": "markdown",
      "source": [
        "**División Entera (//):** Divide el primer operando por el segundo y retorna el cociente entero."
      ],
      "metadata": {
        "id": "G1smngwevNG0"
      }
    },
    {
      "cell_type": "code",
      "source": [
        "resultado = 5 // 3  # resultado es 1"
      ],
      "metadata": {
        "id": "t1w1jjq_vUoZ"
      },
      "execution_count": null,
      "outputs": []
    },
    {
      "cell_type": "markdown",
      "source": [
        "**Módulo (%):** Retorna el residuo de la división del primer operando por el segundo"
      ],
      "metadata": {
        "id": "k7KPBEO9vXI7"
      }
    },
    {
      "cell_type": "code",
      "source": [
        "resultado = 5 % 3  # resultado es 2"
      ],
      "metadata": {
        "id": "u7OwiqJAvc4m"
      },
      "execution_count": null,
      "outputs": []
    },
    {
      "cell_type": "markdown",
      "source": [
        "Exponenciación (**):  Eleva el primer operando a la potencia del segundo."
      ],
      "metadata": {
        "id": "pm7j-BLXve7E"
      }
    },
    {
      "cell_type": "code",
      "source": [
        "resultado = 5 ** 3  # resultado es 125"
      ],
      "metadata": {
        "id": "qEXXFVyBvs-1"
      },
      "execution_count": null,
      "outputs": []
    },
    {
      "cell_type": "markdown",
      "source": [
        "#Operadores de Comparación\n",
        "Estos operadores se utilizan para comparar dos valores y retornan True o False.\n",
        "\n",
        "**Igual a (==):** Compara si dos valores son iguales."
      ],
      "metadata": {
        "id": "GwCZ06-jv8pQ"
      }
    },
    {
      "cell_type": "code",
      "source": [
        "resultado = (5 == 3)  # resultado es False"
      ],
      "metadata": {
        "id": "hImoWojIwNfx"
      },
      "execution_count": null,
      "outputs": []
    },
    {
      "cell_type": "markdown",
      "source": [
        "**Distinto de (!=):** Compara si dos valores son diferentes"
      ],
      "metadata": {
        "id": "TZtaD3o2wIT7"
      }
    },
    {
      "cell_type": "code",
      "source": [
        "resultado = (5 != 3)  # resultado es True"
      ],
      "metadata": {
        "id": "lnR7yFgJwGcN"
      },
      "execution_count": null,
      "outputs": []
    },
    {
      "cell_type": "markdown",
      "source": [
        "**Mayor que (>):** Verifica si el primer operando es mayor que el segundo"
      ],
      "metadata": {
        "id": "utC_EA24waxX"
      }
    },
    {
      "cell_type": "code",
      "source": [
        "resultado = (5 > 3)  # resultado es True"
      ],
      "metadata": {
        "id": "AN7-Cj1mwgVy"
      },
      "execution_count": null,
      "outputs": []
    },
    {
      "cell_type": "markdown",
      "source": [
        "**Menor que (<):** Verifica si el primer operando es menor que el segundo."
      ],
      "metadata": {
        "id": "KDHP3Xaewmcr"
      }
    },
    {
      "cell_type": "code",
      "source": [
        "resultado = (5 < 3)  # resultado es False"
      ],
      "metadata": {
        "id": "b0_-R2f-ws7R"
      },
      "execution_count": null,
      "outputs": []
    },
    {
      "cell_type": "markdown",
      "source": [
        "**Mayor o igual que (>=):** Verifica si el primer operando es mayor o igual que el segundo"
      ],
      "metadata": {
        "id": "4ZnuJhPowvb7"
      }
    },
    {
      "cell_type": "code",
      "source": [
        "resultado = (5 >= 3)  # resultado es True"
      ],
      "metadata": {
        "id": "pu4wdVgCw0Pl"
      },
      "execution_count": null,
      "outputs": []
    },
    {
      "cell_type": "markdown",
      "source": [
        "**Menor o igual que (<=):** Verifica si el primer operando es menor o igual que el segundo."
      ],
      "metadata": {
        "id": "zAcy80zYw3iZ"
      }
    },
    {
      "cell_type": "code",
      "source": [
        "resultado = (5 <= 3)  # resultado es False"
      ],
      "metadata": {
        "id": "HZ6UhZ9yw87f"
      },
      "execution_count": null,
      "outputs": []
    },
    {
      "cell_type": "markdown",
      "source": [
        "#Operadores Lógicos\n",
        "Estos operadores se utilizan para combinar expresiones booleanas.\n",
        "\n",
        "**Y lógico (and):** Retorna True si ambas expresiones son verdaderas"
      ],
      "metadata": {
        "id": "rDOngzNsw_dJ"
      }
    },
    {
      "cell_type": "code",
      "source": [
        "resultado = (5 > 3) and (3 > 2)  # resultado es True"
      ],
      "metadata": {
        "id": "4UYAvTVCxRjG"
      },
      "execution_count": null,
      "outputs": []
    },
    {
      "cell_type": "markdown",
      "source": [
        "**O lógico (or):** Retorna True si al menos una expresión es verdadera"
      ],
      "metadata": {
        "id": "GswpEAbVxWNV"
      }
    },
    {
      "cell_type": "code",
      "source": [
        "resultado = (5 > 3) or (3 > 5)  # resultado es True"
      ],
      "metadata": {
        "id": "n9Z1RO6Qxl4n"
      },
      "execution_count": null,
      "outputs": []
    },
    {
      "cell_type": "markdown",
      "source": [
        "**No lógico (not):** Invierte el valor booleano de una expresión."
      ],
      "metadata": {
        "id": "zl0geUSUxox7"
      }
    },
    {
      "cell_type": "code",
      "source": [
        "resultado = not (5 > 3)  # resultado es False"
      ],
      "metadata": {
        "id": "-SCt7FNExtZ9"
      },
      "execution_count": null,
      "outputs": []
    }
  ]
}