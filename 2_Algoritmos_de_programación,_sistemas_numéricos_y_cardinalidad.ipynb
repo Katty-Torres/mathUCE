{
  "nbformat": 4,
  "nbformat_minor": 0,
  "metadata": {
    "colab": {
      "provenance": [],
      "authorship_tag": "ABX9TyOyMJEZdVNPTiPF/EBlmcs1",
      "include_colab_link": true
    },
    "kernelspec": {
      "name": "python3",
      "display_name": "Python 3"
    },
    "language_info": {
      "name": "python"
    }
  },
  "cells": [
    {
      "cell_type": "markdown",
      "metadata": {
        "id": "view-in-github",
        "colab_type": "text"
      },
      "source": [
        "<a href=\"https://colab.research.google.com/github/Katty-Torres/mathUCE/blob/main/2_Algoritmos_de_programaci%C3%B3n%2C_sistemas_num%C3%A9ricos_y_cardinalidad.ipynb\" target=\"_parent\"><img src=\"https://colab.research.google.com/assets/colab-badge.svg\" alt=\"Open In Colab\"/></a>"
      ]
    },
    {
      "cell_type": "markdown",
      "source": [
        "#**Algoritmo**\n",
        "Un algoritmo es un conjunto de instrucciones paso a paso diseñadas para realizar una tarea específica o resolver un problema. Los algoritmos deben ser finitos, tener un inicio y un fin claros, y deben ser efectivos, es decir, deben resolver el problema de manera precisa y en un tiempo razonable.\n",
        "\n",
        "**Clasificación de los algoritmos**\n",
        "\n",
        "1. **Algoritmos de búsqueda:** Se utilizan para encontrar un elemento específico dentro de una estructura de datos.\n",
        "\n",
        "- ***Búsqueda lineal:*** Recorre cada elemento de la lista hasta encontrar el objetivo.\n",
        "\n",
        "- ***Búsqueda binaria:*** Divide la lista ordenada en mitades para reducir el número de elementos a buscar.\n",
        "\n",
        "2. **Algoritmos de ordenamiento:** Organizan los elementos de una lista en un orden específico.\n",
        "\n",
        "- ***Ordenamiento por burbuja (Bubble sort):*** Compara y cambia elementos adyacentes si están en el orden incorrecto.\n",
        "- ***Ordenamiento por inserción (Insertion sort):*** Construye la lista ordenada uno por uno, insertando cada elemento en su posición correcta.\n",
        "- ***Ordenamiento rápido (Quicksort):*** Divide y conquista, eligiendo un pivote y dividiendo la lista en dos partes para ordenar.\n"
      ],
      "metadata": {
        "id": "9eif775XRYHi"
      }
    },
    {
      "cell_type": "markdown",
      "source": [
        "#Ejemplo\n",
        "Entrada/Proceso/Salida (EPS)\n",
        "\n",
        "Supongamos que queremos escribir un programa que sume dos números proporcionados por el usuario."
      ],
      "metadata": {
        "id": "DFqsF-6KU6aU"
      }
    },
    {
      "cell_type": "code",
      "source": [
        "# Entrada\n",
        "numero1 = float(input(\"Ingrese el primer número: \"))\n",
        "numero2 = float(input(\"Ingrese el segundo número: \"))\n",
        "\n",
        "# Proceso\n",
        "suma = numero1 + numero2\n",
        "\n",
        "# Salida\n",
        "print(f\"La suma de {numero1} y {numero2} es {suma}\")\n"
      ],
      "metadata": {
        "colab": {
          "base_uri": "https://localhost:8080/"
        },
        "id": "_6l2lrVGVEEV",
        "outputId": "bacc7291-415b-44e6-d50f-b91e365722af"
      },
      "execution_count": 1,
      "outputs": [
        {
          "output_type": "stream",
          "name": "stdout",
          "text": [
            "Ingrese el primer número: 3\n",
            "Ingrese el segundo número: 7\n",
            "La suma de 3.0 y 7.0 es 10.0\n"
          ]
        }
      ]
    },
    {
      "cell_type": "code",
      "source": [
        "# Entrada\n",
        "lista = [int(x) for x in input(\"Ingrese una lista de números separados por espacios: \").split()]\n",
        "numero_buscado = int(input(\"Ingrese el número a buscar: \"))\n",
        "\n",
        "# Proceso\n",
        "encontrado = False\n",
        "for numero in lista:\n",
        "    if numero == numero_buscado:\n",
        "        encontrado = True\n",
        "        break\n",
        "\n",
        "# Salida\n",
        "if encontrado:\n",
        "    print(f\"El número {numero_buscado} se encuentra en la lista.\")\n",
        "else:\n",
        "    print(f\"El número {numero_buscado} no se encuentra en la lista.\")\n"
      ],
      "metadata": {
        "colab": {
          "base_uri": "https://localhost:8080/"
        },
        "id": "vNSprDlrVfj7",
        "outputId": "cbc35b46-63ed-4011-8125-1551c5f554d0"
      },
      "execution_count": 2,
      "outputs": [
        {
          "output_type": "stream",
          "name": "stdout",
          "text": [
            "Ingrese una lista de números separados por espacios: 5\n",
            "Ingrese el número a buscar: 9\n",
            "El número 9 no se encuentra en la lista.\n"
          ]
        }
      ]
    },
    {
      "cell_type": "code",
      "source": [
        "def busqueda_binaria(lista, objetivo):\n",
        "    inicio = 0\n",
        "    fin = len(lista) - 1\n",
        "\n",
        "    while inicio <= fin:\n",
        "        medio = (inicio + fin) // 2\n",
        "        if lista[medio] == objetivo:\n",
        "            return medio\n",
        "        elif lista[medio] < objetivo:\n",
        "            inicio = medio + 1\n",
        "        else:\n",
        "            fin = medio - 1\n",
        "\n",
        "    return -1\n",
        "\n",
        "# Ejemplo de uso\n",
        "lista = [1, 3, 5, 7, 9, 11, 13, 15]\n",
        "objetivo = 7\n",
        "resultado = busqueda_binaria(lista, objetivo)\n",
        "print(f'El objetivo está en el índice: {resultado}')\n"
      ],
      "metadata": {
        "colab": {
          "base_uri": "https://localhost:8080/"
        },
        "id": "Qhu_58i-UFks",
        "outputId": "c184f98e-80af-4765-d5ef-f0a1fd4d803b"
      },
      "execution_count": 3,
      "outputs": [
        {
          "output_type": "stream",
          "name": "stdout",
          "text": [
            "El objetivo está en el índice: 3\n"
          ]
        }
      ]
    },
    {
      "cell_type": "markdown",
      "source": [
        "#Sistemas numéricos\n",
        "Los sistemas numéricos son métodos para representar números mediante un conjunto específico de símbolos y reglas. A continuación, se describen algunos de los sistemas numéricos más comunes:\n",
        "\n",
        "**Sistema Decimal (Base 10)**\n",
        "\n",
        "El sistema decimal es el más utilizado y se basa en 10 dígitos (0-9). Cada posición en un número decimal representa una potencia de 10.\n",
        "\n",
        "Ejemplo:\n",
        "\n",
        "El número 345 en el sistema decimal se puede descomponer como:\n",
        "- 3 × 10^2 + 4 × 10^1 + 5 × 10^0.\n",
        "\n",
        "**Sistema Binario (Base 2)**\n",
        "El sistema binario se utiliza principalmente en computación y electrónica digital. Se basa en 2 dígitos (0 y 1).\n",
        "\n",
        "Ejemplo:\n",
        "\n",
        "El número 1011 en binario se puede descomponer como:\n",
        "1 × 2^3 + 0 × 2^2 + 1 × 2^1 + 1 × 2^0 = 8 + 0 + 2 + 1 = 11 en decimal.\n",
        "\n",
        "**Cardinalidad**\n",
        "\n",
        "La cardinalidad se refiere a la cantidad de elementos en un conjunto. Es un concepto fundamental en matemáticas, especialmente en teoría de conjuntos.\n",
        "\n",
        "*Conjuntos Finito*\n",
        "\n",
        "Un conjunto finito tiene un número finito de elementos. La cardinalidad de un conjunto finito es simplemente el número de elementos en el conjunto.\n",
        "\n",
        "Ejemplo:\n",
        "\n",
        "- El conjunto 𝐴 ={1,2,3,4} tiene una cardinalidad de 4, ya que contiene 4 elementos.\n",
        "\n",
        "*Conjuntos Infinito*\n",
        "\n",
        "Un conjunto infinito tiene un número infinito de elementos. La cardinalidad de conjuntos infinitos se puede comparar utilizando diferentes tipos de infinitos.\n",
        "\n",
        "*Conjuntos Numerables*\n",
        "\n",
        "Un conjunto numerable (o contable) tiene una cardinalidad igual a la del conjunto de los números naturales (𝑁)."
      ],
      "metadata": {
        "id": "haRzpWloV4Pd"
      }
    },
    {
      "cell_type": "markdown",
      "source": [
        "**Conversión de Decimal a Binario**"
      ],
      "metadata": {
        "id": "TtOOEJcgd-4_"
      }
    },
    {
      "cell_type": "code",
      "source": [
        "# Convertir decimal a binario\n",
        "numero_decimal = 25\n",
        "numero_binario = bin(numero_decimal)\n",
        "print(f\"{numero_decimal} en binario es {numero_binario}\")\n"
      ],
      "metadata": {
        "id": "nLT9ZjBoUVuL"
      },
      "execution_count": null,
      "outputs": []
    },
    {
      "cell_type": "markdown",
      "source": [
        "**Conversión de Binario a Decimal**\n",
        "\n",
        "Para convertir un número binario a decimal, puedes usar la función int() con la base 2:"
      ],
      "metadata": {
        "id": "j0tWI_FeeD-w"
      }
    },
    {
      "cell_type": "code",
      "source": [
        "# Convertir binario a decimal\n",
        "numero_binario = \"11001\"\n",
        "numero_decimal = int(numero_binario, 2)\n",
        "print(f\"{numero_binario} en decimal es {numero_decimal}\")\n"
      ],
      "metadata": {
        "id": "ddzMJI6LeLdy"
      },
      "execution_count": null,
      "outputs": []
    },
    {
      "cell_type": "markdown",
      "source": [
        "**Conversión de Decimal a Octal**\n",
        "\n",
        "Puedes utilizar la función oct() para convertir un número decimal a octal:"
      ],
      "metadata": {
        "id": "wQdLVfCyeT8W"
      }
    },
    {
      "cell_type": "code",
      "source": [
        "# Convertir decimal a octal\n",
        "numero_decimal = 25\n",
        "numero_octal = oct(numero_decimal)\n",
        "print(f\"{numero_decimal} en octal es {numero_octal}\")\n"
      ],
      "metadata": {
        "id": "J-GVOjvvedO9"
      },
      "execution_count": null,
      "outputs": []
    },
    {
      "cell_type": "markdown",
      "source": [
        "**Conversión de Octal a Decimal**\n",
        "\n",
        "Para convertir un número octal a decimal, puedes usar la función int() con la base 8:"
      ],
      "metadata": {
        "id": "nSQJ6TVuegfo"
      }
    },
    {
      "cell_type": "code",
      "source": [
        "# Convertir octal a decimal\n",
        "numero_octal = \"31\"\n",
        "numero_decimal = int(numero_octal, 8)\n",
        "print(f\"{numero_octal} en decimal es {numero_decimal}\")\n"
      ],
      "metadata": {
        "id": "BtCgRqW4emRj"
      },
      "execution_count": null,
      "outputs": []
    },
    {
      "cell_type": "markdown",
      "source": [
        "**Conversión de Decimal a Hexadecimal**\n",
        "\n",
        "Puedes utilizar la función hex() para convertir un número decimal a hexadecimal:"
      ],
      "metadata": {
        "id": "Mm60ecyceqIE"
      }
    },
    {
      "cell_type": "code",
      "source": [
        "# Convertir decimal a hexadecimal\n",
        "numero_decimal = 25\n",
        "numero_hexadecimal = hex(numero_decimal)\n",
        "print(f\"{numero_decimal} en hexadecimal es {numero_hexadecimal}\")\n"
      ],
      "metadata": {
        "id": "F1T2YJJjeuWp"
      },
      "execution_count": null,
      "outputs": []
    },
    {
      "cell_type": "markdown",
      "source": [
        "**Conversión de Hexadecimal a Decimal**\n",
        "\n",
        "Para convertir un número hexadecimal a decimal, puedes usar la función int() con la base 16:"
      ],
      "metadata": {
        "id": "z0lKtYGGexNo"
      }
    },
    {
      "cell_type": "code",
      "source": [
        "# Convertir hexadecimal a decimal\n",
        "numero_hexadecimal = \"19\"\n",
        "numero_decimal = int(numero_hexadecimal, 16)\n",
        "print(f\"{numero_hexadecimal} en decimal es {numero_decimal}\")\n"
      ],
      "metadata": {
        "id": "H3ssobHze5QB"
      },
      "execution_count": null,
      "outputs": []
    }
  ]
}