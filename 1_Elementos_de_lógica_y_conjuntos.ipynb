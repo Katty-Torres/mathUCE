{
  "nbformat": 4,
  "nbformat_minor": 0,
  "metadata": {
    "colab": {
      "provenance": [],
      "authorship_tag": "ABX9TyO0dsFL+sLiYBoBNFLmzwcE",
      "include_colab_link": true
    },
    "kernelspec": {
      "name": "python3",
      "display_name": "Python 3"
    },
    "language_info": {
      "name": "python"
    }
  },
  "cells": [
    {
      "cell_type": "markdown",
      "metadata": {
        "id": "view-in-github",
        "colab_type": "text"
      },
      "source": [
        "<a href=\"https://colab.research.google.com/github/Katty-Torres/mathUCE/blob/main/1_Elementos_de_l%C3%B3gica_y_conjuntos.ipynb\" target=\"_parent\"><img src=\"https://colab.research.google.com/assets/colab-badge.svg\" alt=\"Open In Colab\"/></a>"
      ]
    },
    {
      "cell_type": "markdown",
      "source": [
        "#**Lógica proporcional y teoría de conjuntos**\n",
        "Conectores lógicos que son:\n",
        "\n",
        "***Conectores lógicos básicos***\n",
        "- **Conjunción** (∧): \"y\"\n",
        "\n",
        "La conjunción es verdadera solo si ambas proposiciones son verdaderas.\n",
        "- **Disyunción** (∨): \"o\"\n",
        "\n",
        "La disyunción es verdadera si al menos una de las proposiciones es verdadera.\n",
        "- **Negación** (¬): \"no\"\n",
        "\n",
        "La negación de una proposición invierte su valor de verdad.\n",
        "\n",
        "\n",
        "- **Implicación** (→): \"si... entonces\"\n",
        "\n",
        "La implicación es falsa solo si 𝑝 es verdadero y 𝑞 es falso.\n",
        "- **Bicondicional** (↔): \"si y solo si\"\n",
        "\n",
        "El bicondicional es verdadero solo si ambos valores de verdad son iguales.\n",
        "\n",
        "***Cuantificadores lógicos***\n",
        "\n",
        "- **Existencial** (∃): \"Existe\"\n",
        "- **Universal** (∀): \"Para todo\"\n",
        "\n",
        "Ejemplos:\n",
        "\n",
        "- **∃x ∀y:** \"Existe un x para todo y\"\n",
        "- **∀y ∃x:** \"Para todo y existe un x\""
      ],
      "metadata": {
        "id": "BnJM93e1c-0R"
      }
    },
    {
      "cell_type": "code",
      "source": [
        "import itertools\n",
        "\n",
        "def truth_table_2_vars():\n",
        "    values = [True, False]\n",
        "    combinations = list(itertools.product(values, repeat=2))\n",
        "\n",
        "    # Headers\n",
        "    print(f\"{'p':<6}{'q':<6}{'¬p':<6}{'p∧q':<6}{'p∨q':<6}{'p→q':<6}{'p↔q':<6}\")\n",
        "    print(\"-\" * 42)\n",
        "\n",
        "    for p, q in combinations:\n",
        "        not_p = not p\n",
        "        p_and_q = p and q\n",
        "        p_or_q = p or q\n",
        "        p_imp_q = not p or q\n",
        "        p_bic_q = p == q\n",
        "\n",
        "        print(f\"{str(p):<6}{str(q):<6}{str(not_p):<6}{str(p_and_q):<6}{str(p_or_q):<6}{str(p_imp_q):<6}{str(p_bic_q):<6}\")\n",
        "\n",
        "truth_table_2_vars()\n",
        "\n"
      ],
      "metadata": {
        "colab": {
          "base_uri": "https://localhost:8080/"
        },
        "id": "RDydS1efHbds",
        "outputId": "f8079d05-ccb1-4866-d427-6dbbfd5152bf"
      },
      "execution_count": 5,
      "outputs": [
        {
          "output_type": "stream",
          "name": "stdout",
          "text": [
            "p     q     ¬p    p∧q   p∨q   p→q   p↔q   \n",
            "------------------------------------------\n",
            "True  True  False True  True  True  True  \n",
            "True  False False False True  False False \n",
            "False True  True  False True  True  False \n",
            "False False True  False False True  True  \n"
          ]
        }
      ]
    },
    {
      "cell_type": "markdown",
      "source": [
        "El orden de los cuantificadores afecta el significado lógico.\n",
        "\n",
        "**Analogía:** \"Todos tienen una madre, ninguna como la mía\"\n",
        "\n",
        "- ∃x ∀y: Existe una madre para todas las personas (incorrecto)\n",
        "- ∀y ∃x: Para toda persona existe una madre (correcto)\n",
        "\n",
        "Negación de cuantificadores **texto en negrita**\n",
        "- Negación de ∃x P(x): ∀x ¬P(x)\n",
        "- Negación de ∀x P(x): ∃x ¬P(x)\n",
        "\n",
        "**Ejemplos de Uso de Cuantificadores**\n",
        "\n",
        "- ***Cuantificador Universal:***\n",
        "\n",
        "∀𝑥 ∈ 𝑍 (𝑥^2 ≥ 0) ∀x ∈ Z(x^2 ≥ 0)\n",
        "\n",
        "Significa: \"Para todo 𝑥 en el conjunto de los números enteros, 𝑥^2 es mayor o igual a 0\".\n",
        "\n",
        "- ***Cuantificador Existencial:***\n",
        "\n",
        "∃ 𝑦 ∈ 𝑄 (𝑦^2 ≥ 0)\n",
        "\n",
        "Significa: \"Existe un 𝑦 en el conjunto de los números racionales tal que  𝑦^2 = 2\".\n",
        "\n",
        "- ***Cuantificadores Combinados:***\n",
        "\n",
        "∀ 𝑥 ∈ 𝑅, ∃ 𝑦 ∈ 𝑅 (𝑥 < 𝑦) ∀x∈R,∃y∈R(x<y)\n",
        "\n",
        "Significa: \"Para todo 𝑥 en el conjunto de los números reales, existe un 𝑦 en el conjunto de los números reales tal que 𝑥 < 𝑦\".\n",
        "\n",
        "- ***Negación de Cuantificadores:***\n",
        "\n",
        "La negación de un cuantificador universal se convierte en un cuantificador existencial y viceversa.\n",
        "\n",
        "¬(∀ 𝑥 ∈ 𝑅  (𝑃(𝑥))) ≡ ∃ 𝑥 ∈ 𝑅  (¬𝑃(𝑥))\n",
        "\n",
        "Significa: \"No es cierto que para todo 𝑥 en el conjunto de los números reales, 𝑃(𝑥) es verdadero\" es equivalente a decir \"Existe un 𝑥 en el conjunto de los números reales tal que 𝑃(𝑥) es falso\".\n",
        "\n",
        "¬(∃ 𝑥 ∈ 𝑅  (𝑃(𝑥))) ≡ ∀ 𝑥 ∈ 𝑅 (¬𝑃(𝑥))\n",
        "\n",
        "Significa: \"No existe un 𝑥 en el conjunto de los números reales tal que 𝑃(𝑥)\n",
        "es verdadero\" es equivalente a decir \"Para todo 𝑥 en el conjunto de los números reales, 𝑃(𝑥) es falso\".\n"
      ],
      "metadata": {
        "id": "N-ibxEdmKyag"
      }
    },
    {
      "cell_type": "markdown",
      "source": [
        "# **CONJUNTOS**\n",
        "\n",
        "Los conjuntos son una de las nociones fundamentales en matemáticas. Un conjunto es una colección bien definida de objetos distintos, llamados elementos o miembros del conjunto. Aquí tienes una introducción a los conceptos básicos de los conjuntos, junto con algunos ejemplos.\n",
        "\n",
        "*Definición de Conjuntos*\n",
        "\n",
        "Un conjunto se denota habitualmente con letras mayúsculas, como 𝐴, 𝐵, 𝐶, y sus elementos se listan dentro de llaves.\n",
        "\n",
        "**Notación**\n",
        "1. ***Pertenencia:***\n",
        "\n",
        "Si un elemento 𝑎 pertenece a un conjunto 𝐴, escribimos 𝑎 ∈ 𝐴. Si no pertenece, escribimos 𝑎 ∉ 𝐴.\n",
        "\n",
        "2. ***Conjunto Vacío:***\n",
        "\n",
        "El conjunto vacío, denotado por ∅ o {}, es el conjunto que no tiene elementos.\n",
        "\n",
        "**OPERACIONES CON CONJUNTOS**\n",
        "\n",
        "1. *Unión (∪):*\n",
        "\n",
        "La unión de dos conjuntos 𝐴 y 𝐵 es el conjunto de elementos que pertenecen a\n",
        "𝐴, a 𝐵, o a ambos.\n",
        "\n",
        "        A ∪ B={ x ∣ x ∈ A o x ∈ B}\n",
        "\n",
        "Ejemplo:\n",
        "\n",
        "𝐴={1,2,3}, 𝐵={3,4,5}\n",
        "\n",
        "𝐴∪𝐵={1,2,3,4,5}\n",
        "\n",
        " 2. *Intersección ( ∩ ):*\n",
        "\n",
        "La intersección de dos conjuntos 𝐴 y 𝐵 es el conjunto de elementos que pertenecen a ambos 𝐴 y 𝐵.\n",
        "\n",
        "        𝐴 ∩ 𝐵 ={𝑥 ∣ 𝑥 ∈ 𝐴 y 𝑥 ∈ 𝐵}\n",
        "\n",
        "Ejemplo:\n",
        "\n",
        "𝐴 ={1,2,3}, 𝐵={3,4,5}\n",
        "\n",
        "𝐴∩𝐵={3}\n",
        "\n",
        "4. ***Complemento:***\n",
        "\n",
        "El complemento de un conjunto 𝐴 con respecto a un universo 𝑈 es el conjunto de elementos que están en 𝑈 pero no en 𝐴.\n",
        "\n",
        "        𝐴𝑐 ={𝑥 ∣ 𝑥 ∈ 𝑈 y 𝑥 ∉ 𝐴}\n",
        "\n",
        "Ejemplo:\n",
        "\n",
        "Si el universo 𝑈={1,2,3,4,5} y 𝐴={1,2,3}\n",
        "\n",
        "𝐴𝑐={4,5}\n",
        "\n",
        "**Propiedades de los Conjuntos**\n",
        "\n",
        "1. Ley de Idempotencia:\n",
        "\n",
        "    𝐴∪𝐴=𝐴\n",
        "\n",
        "    𝐴∩𝐴=𝐴\n",
        "\n",
        "2. Ley de Conmutatividad:\n",
        "\n",
        "    𝐴∪𝐵 = 𝐵∪𝐴\n",
        "\n",
        "    𝐴∩𝐵 = 𝐵∩𝐴\n",
        "\n",
        "3. Ley de Asociatividad:\n",
        "\n",
        "    (𝐴∪𝐵)∪𝐶 = 𝐴∪(𝐵∪𝐶)\n",
        "\n",
        "    (𝐴∩𝐵)∩𝐶 = 𝐴∩(𝐵∩𝐶)\n",
        "\n",
        "4. Ley de Distributividad:\n",
        "\n",
        "    𝐴∪(𝐵∩𝐶)=(𝐴∪𝐵)∩(𝐴∪𝐶)\n",
        "\n",
        "    𝐴∩(𝐵∪𝐶)=(𝐴∩𝐵)∪(𝐴∩𝐶)\n",
        "\n",
        "5. Ley de De Morgan:\n",
        "\n",
        "    (𝐴∪𝐵)𝑐 = 𝐴𝑐 ∩ 𝐵𝑐  \n",
        "\n",
        "    (𝐴∩𝐵)𝑐 = 𝐴𝑐 ∪ 𝐵𝑐\n"
      ],
      "metadata": {
        "id": "1OG0l1J5QMid"
      }
    },
    {
      "cell_type": "code",
      "source": [
        "import matplotlib.pyplot as plt\n",
        "from matplotlib_venn import venn3\n",
        "\n",
        "# Definir los conjuntos\n",
        "A = {1, 2, 3, 4}\n",
        "B = {3, 4, 5, 6}\n",
        "C = {1, 6, 7, 8}\n",
        "\n",
        "# Crear el gráfico de Venn\n",
        "venn3([A, B, C], ('A', 'B', 'C'))\n",
        "\n",
        "# Personalizar el gráfico\n",
        "plt.title(\"Gráfico de Venn de los conjuntos A, B y C\")\n",
        "plt.show()\n"
      ],
      "metadata": {
        "colab": {
          "base_uri": "https://localhost:8080/",
          "height": 432
        },
        "id": "d6ohxbsUNNBV",
        "outputId": "b146cf1b-f198-42b3-b251-a6d08cbb1174"
      },
      "execution_count": 2,
      "outputs": [
        {
          "output_type": "display_data",
          "data": {
            "text/plain": [
              "<Figure size 640x480 with 1 Axes>"
            ],
            "image/png": "[encoded data removed]"
          },
          "metadata": {}
        }
      ]
    },
    {
      "cell_type": "code",
      "source": [
        "import matplotlib.pyplot as plt\n",
        "from matplotlib_venn import venn2\n",
        "\n",
        "# Definir los conjuntos\n",
        "A = {1, 2, 3}\n",
        "B = {3, 4, 5}\n",
        "\n",
        "# Crear el gráfico de Venn\n",
        "venn2([A, B], ('A', 'B'))\n",
        "\n",
        "# Personalizar el gráfico\n",
        "plt.title(\"Gráfico de Venn de los conjuntos A y B\")\n",
        "plt.show()\n"
      ],
      "metadata": {
        "colab": {
          "base_uri": "https://localhost:8080/",
          "height": 401
        },
        "id": "ExhEQEmxNHez",
        "outputId": "d4adfde6-81dd-446b-c9d5-9f0aeac90192"
      },
      "execution_count": 1,
      "outputs": [
        {
          "output_type": "display_data",
          "data": {
            "text/plain": [
              "<Figure size 640x480 with 1 Axes>"
            ],
            "image/png": "[encoded data removed]"
          },
          "metadata": {}
        }
      ]
    }
  ]
}